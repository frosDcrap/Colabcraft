{
  "nbformat": 4,
  "nbformat_minor": 0,
  "metadata": {
    "colab": {
      "name": "Colab RDP.ipynb",
      "provenance": [],
      "collapsed_sections": [],
      "include_colab_link": true
    },
    "kernelspec": {
      "name": "python3",
      "display_name": "Python 3"
    },
    "accelerator": "GPU"
  },
  "cells": [
    {
      "cell_type": "markdown",
      "metadata": {
        "id": "view-in-github",
        "colab_type": "text"
      },
      "source": [
        "<a href=\"https://colab.research.google.com/github/frosDfurret/Colabcraft/blob/master/Colab%20RDP/Colab%20RDP.ipynb\" target=\"_parent\"><img src=\"https://colab.research.google.com/assets/colab-badge.svg\" alt=\"Open In Colab\"/></a>"
      ]
    },
    {
      "cell_type": "markdown",
      "metadata": {
        "id": "iLh_9SkSut4u"
      },
      "source": [
        "# **Colabcraft** : Stream Minecraft Java (TLauncher) to Chromebook using Chrome RDP\n",
        "\n",
        "> **Warning : Not for Cryptocurrency Mining<br></br>** \n",
        "\n",
        "As this runs TLauncher, be warned that you won't be able to join non-cracked servers. This includes Hypixel.<br>\n",
        "Technically, the code <b>could</b> be changed to use the official Minecraft client, but in this day and age it's unsafe to type in your MC account details on anywhere you don't trust.\n",
        "\n",
        "**[Colab Hacks](https://github.com/PradyumnaKrishna/Colab-Hacks)**"
      ]
    },
    {
      "cell_type": "code",
      "metadata": {
        "id": "t4yNp3KmLtZ6",
        "cellView": "form"
      },
      "source": [
        "#@title **Create User**\n",
        "#@markdown Just press the play button, no need to change the default variables.\n",
        "\n",
        "username = \"user\" #@param {type:\"string\"}\n",
        "password = \"root\" #@param {type:\"string\"}\n",
        "\n",
        "print(\"Creating User and Setting it up\")\n",
        "\n",
        "# Creation of user\n",
        "! sudo useradd -m $username &> /dev/null\n",
        "\n",
        "# Add user to sudo group\n",
        "! sudo adduser $username sudo &> /dev/null\n",
        "    \n",
        "# Set password of user to 'root'\n",
        "! echo '$username:$password' | sudo chpasswd\n",
        "\n",
        "# Change default shell from sh to bash\n",
        "! sed -i 's/\\/bin\\/sh/\\/bin\\/bash/g' /etc/passwd\n",
        "\n",
        "print(\"User Created and Configured\")"
      ],
      "execution_count": null,
      "outputs": []
    },
    {
      "cell_type": "code",
      "metadata": {
        "id": "Q6bl1b0EifVG",
        "cellView": "form"
      },
      "source": [
        "#@title **RDP**\n",
        "#@markdown  It takes 4-5 minutes for installation\n",
        "\n",
        "#@markdown  Visit http://remotedesktop.google.com/headless and Copy the \"Debian (linux)\" command after authentication, then paste in CRP field below\n",
        "\n",
        "#@markdown  Check the YouTube video if the page has \"This page isn't working\" error\n",
        "CRP = \"\" #@param {type:\"string\"}\n",
        "\n",
        "#@markdown Enter a pin more or equal to 6 digits, or leave it as it is.\n",
        "Pin = 123456 #@param {type: \"integer\"}\n",
        "\n",
        "def CRD():\n",
        "    with open('install.sh', 'w') as script:\n",
        "        script.write(\"\"\"#! /bin/bash\n",
        "\n",
        "b='\\033[1m'\n",
        "r='\\E[31m'\n",
        "g='\\E[32m'\n",
        "c='\\E[36m'\n",
        "endc='\\E[0m'\n",
        "enda='\\033[0m'\n",
        "\n",
        "printf \"\\n\\n$c$b    Loading Installer $endc$enda\" >&2\n",
        "if sudo apt-get update &> /dev/null\n",
        "then\n",
        "    printf \"\\r$g$b    Installer Loaded $endc$enda\\n\" >&2\n",
        "else\n",
        "    printf \"\\r$r$b    Error Occured $endc$enda\\n\" >&2\n",
        "    exit\n",
        "fi\n",
        "\n",
        "printf \"\\n$g$b    Installing Chrome Remote Desktop $endc$enda\" >&2\n",
        "{\n",
        "    wget https://dl.google.com/linux/direct/chrome-remote-desktop_current_amd64.deb\n",
        "    sudo dpkg --install chrome-remote-desktop_current_amd64.deb\n",
        "    sudo apt install --assume-yes --fix-broken\n",
        "} &> /dev/null &&\n",
        "printf \"\\r$c$b    Chrome Remote Desktop Installed $endc$enda\\n\" >&2 ||\n",
        "{ printf \"\\r$r$b    Error Occured $endc$enda\\n\" >&2; exit; }\n",
        "sleep 3\n",
        "\n",
        "printf \"$g$b    Installing Desktop Environment $endc$enda\" >&2\n",
        "{\n",
        "    sudo DEBIAN_FRONTEND=noninteractive \\\n",
        "        apt install --assume-yes xfce4 desktop-base xfce4-terminal\n",
        "    sudo bash -c 'echo \"exec /etc/X11/Xsession /usr/bin/xfce4-session\" > /etc/chrome-remote-desktop-session'  \n",
        "    sudo apt remove --assume-yes gnome-terminal\n",
        "    sudo apt install --assume-yes xscreensaver\n",
        "    sudo systemctl disable lightdm.service\n",
        "} &> /dev/null &&\n",
        "printf \"\\r$c$b    Desktop Environment Installed $endc$enda\\n\" >&2 ||\n",
        "{ printf \"\\r$r$b    Error Occured $endc$enda\\n\" >&2; exit; }\n",
        "sleep 3\n",
        "\n",
        "printf \"$g$b    Installing Google Chrome $endc$enda\" >&2\n",
        "{\n",
        "    wget https://dl.google.com/linux/direct/google-chrome-stable_current_amd64.deb\n",
        "    sudo dpkg --install google-chrome-stable_current_amd64.deb\n",
        "    sudo apt install --assume-yes --fix-broken\n",
        "} &> /dev/null &&\n",
        "printf \"\\r$c$b    Google Chrome Installed $endc$enda\\n\" >&2 ||\n",
        "printf \"\\r$r$b    Error Occured $endc$enda\\n\" >&2\n",
        "sleep 3\n",
        "\n",
        "printf \"$g$b    Installing TLauncher $endc$enda\" >&2\n",
        "{\n",
        "    wget https://github.com/RikyIsola/tlauncher-linux/releases/download/v1.0/tlauncher_1.0_amd64.deb\n",
        "    sudo dpkg --install tlauncher_1.0_amd64.deb\n",
        "    sudo apt install --assume-yes --fix-broken\n",
        "} &> /dev/null &&\n",
        "printf \"\\r$c$b    TLauncher Installed $endc$enda\\n\" >&2 ||\n",
        "printf \"\\r$r$b    Error Occured $endc$enda\\n\" >&2\n",
        "sleep 3\n",
        "\n",
        "printf \"$g$b    Installing other Tools $endc$enda\" >&2\n",
        "if sudo apt install nautilus nano -y &> /dev/null\n",
        "then\n",
        "    printf \"\\r$c$b    Other Tools Installed $endc$enda\\n\" >&2\n",
        "else\n",
        "    printf \"\\r$r$b    Error Occured $endc$enda\\n\" >&2\n",
        "fi\n",
        "sleep 3\n",
        "\n",
        "\n",
        "\n",
        "printf \"\\n$g$b    Installation Completed $endc$enda\\n\\n\" >&2\"\"\")\n",
        "\n",
        "    ! chmod +x install.sh\n",
        "    ! ./install.sh\n",
        "\n",
        "    # Adding user to CRP group\n",
        "    ! sudo adduser $username chrome-remote-desktop &> /dev/null\n",
        "\n",
        "    # Finishing Work\n",
        "    ! su - $username -c \"\"\"$CRP --pin=$Pin\"\"\" &> /dev/null\n",
        "\n",
        "    print(\"Finished Succesfully, now you can open Chrome Remote Desktop and play MC!\")\n",
        "\n",
        "try:\n",
        "    if username:\n",
        "        if CRP == \"\":\n",
        "            print(\"Please enter authcode from the given link\")\n",
        "        elif len(str(Pin)) < 6:\n",
        "            print(\"Enter a pin more or equal to 6 digits\")\n",
        "        else:\n",
        "            CRD()\n",
        "except NameError:\n",
        "    print(\"username variable not found\")\n",
        "    print(\"Create a User First\")"
      ],
      "execution_count": null,
      "outputs": []
    },
    {
      "cell_type": "code",
      "metadata": {
        "id": "0CI38pAe2bsZ",
        "cellView": "form"
      },
      "source": [
        "#@title **Automatically apply performance settings**\n",
        "#@markdown Run to apply the premade performance settings for Optifine instead of changing them manually.<br>\n",
        "#@markdown These premade settings may make the graphics look pretty terrible, but overall make the game more playable and less laggy.\n",
        "!pip install gdown -q\n",
        "!mkdir /home/user/.minecraft\n",
        "!cd /home/user/.minecraft\n",
        "!gdown https://drive.google.com/uc?id=1jWEH71TjAY-F3D-5q2atSl54fLhSJGix -O /home/user/.minecraft/options.txt -q\n",
        "!gdown https://drive.google.com/uc?id=1GSEYPFqukw6MisUUiLyzjOL5JS1LXIRc -O /home/user/.minecraft/optionsof.txt -q\n",
        "! runuser -l $user -c \"sudo chmod u+rwx,go+rwx /home/user/.minecraft\"  > /dev/null 2>&1\n"
      ],
      "execution_count": null,
      "outputs": []
    },
    {
      "cell_type": "code",
      "metadata": {
        "id": "vk2qtOTGIFsQ",
        "cellView": "form"
      },
      "source": [
        "#@title **Google Drive Mount**\n",
        "#@markdown Google Drive used for files.<br>\n",
        "#@markdown In this case, used for storing MC world saves.<br>\n",
        "#@markdown Mounted at `user` Home directory inside drive folder<br>\n",
        "#@markdown Run <b>before</b> using options below!\n",
        "\n",
        "def MountGDrive():\n",
        "    from google.colab import drive\n",
        "\n",
        "    ! runuser -l $user -c \"yes | python3 -m pip install --user google-colab\"  > /dev/null 2>&1\n",
        "\n",
        "    mount = \"\"\"from os import environ as env\n",
        "from google.colab import drive\n",
        "\n",
        "env['CLOUDSDK_CONFIG']  = '/content/.config'\n",
        "drive.mount('{}')\"\"\".format(mountpoint)\n",
        "\n",
        "    with open('/content/mount.py', 'w') as script:\n",
        "        script.write(mount)\n",
        "\n",
        "    ! runuser -l $user -c \"python3 /content/mount.py\"\n",
        "\n",
        "try:\n",
        "    if username:\n",
        "        mountpoint = \"/home/\"+username+\"/drive\"\n",
        "        user = username\n",
        "except NameError:\n",
        "    print(\"username variable not found, mounting at `/content/drive' using `root'\")\n",
        "    mountpoint = '/content/drive'\n",
        "    user = 'root'\n",
        "\n",
        "MountGDrive()"
      ],
      "execution_count": null,
      "outputs": []
    },
    {
      "cell_type": "code",
      "metadata": {
        "id": "8PdKLIRXmzcX",
        "cellView": "form"
      },
      "source": [
        "#@title **RESTORE MC Saves from Drive to RDP**\n",
        "#@markdown Use this to copy your Minecraft worlds from your Google Drive to your RDP server.<br>\n",
        "#@markdown <b>EXTRA TIP!</b> You can add custom worlds by uploading them to the \"0_MC_Saves\" folder in your Google Drive!\n",
        "! runuser -l $user -c \"mkdir -p /home/user/.minecraft/saves\"  > /dev/null 2>&1\n",
        "! runuser -l $user -c \"mkdir -p /home/user/drive/MyDrive/0_MC_Saves\"  > /dev/null 2>&1\n",
        "! runuser -l $user -c \"cp -r /home/user/drive/MyDrive/0_MC_Saves/saves /home/user/.minecraft/\"  > /dev/null 2>&1\n",
        "print(\"Done! If it didn't work, it's likely you don't have any worlds backed up.\")"
      ],
      "execution_count": null,
      "outputs": []
    },
    {
      "cell_type": "code",
      "metadata": {
        "id": "Nl5vZO1QnNLq",
        "cellView": "form"
      },
      "source": [
        "#@title **BACKUP MC Saves from Drive to RDP**\n",
        "#@markdown Use this to copy your Minecraft worlds from your RDP server to your Google Drive.<br>\n",
        "! runuser -l $user -c \"mkdir -p /home/user/.minecraft/saves\"  > /dev/null 2>&1\n",
        "! runuser -l $user -c \"mkdir -p /home/user/drive/MyDrive/0_MC_Saves\"  > /dev/null 2>&1\n",
        "! runuser -l $user -c \"cp -r /home/user/.minecraft/saves /home/user/drive/MyDrive/0_MC_Saves/\"  > /dev/null 2>&1\n",
        "print(\"Done! If it didn't work, it's likely you don't have any worlds.\")"
      ],
      "execution_count": null,
      "outputs": []
    },
    {
      "cell_type": "code",
      "metadata": {
        "cellView": "form",
        "id": "w8VZi3wZMYh0"
      },
      "source": [
        "#@title **Anti-Shutdown**\n",
        "#@markdown Run this when you're playing Minecraft to prevent the RDP from shutting down. When you need to restore or backup MC saves, stop this block, restore/backup, and start this block again. Note that RDP will always shut down after 12 hours, even if still being used.<br>\n",
        "\n",
        "while True:pass"
      ],
      "execution_count": null,
      "outputs": []
    },
    {
      "cell_type": "markdown",
      "metadata": {
        "id": "XMtvVOqKNczI"
      },
      "source": [
        "Thanks!"
      ]
    }
  ]
}