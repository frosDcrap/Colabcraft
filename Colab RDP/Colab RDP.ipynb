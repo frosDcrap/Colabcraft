{
  "nbformat": 4,
  "nbformat_minor": 0,
  "metadata": {
    "colab": {
      "name": "Colab RDP.ipynb",
      "provenance": [],
      "collapsed_sections": [],
      "toc_visible": true,
      "include_colab_link": true
    },
    "kernelspec": {
      "name": "python3",
      "display_name": "Python 3"
    }
  },
  "cells": [
    {
      "cell_type": "markdown",
      "metadata": {
        "id": "view-in-github",
        "colab_type": "text"
      },
      "source": [
        "<a href=\"https://colab.research.google.com/github/frosDfurret/Colabcraft/blob/master/Colab%20RDP/Colab%20RDP.ipynb\" target=\"_parent\"><img src=\"https://colab.research.google.com/assets/colab-badge.svg\" alt=\"Open In Colab\"/></a>"
      ]
    },
    {
      "cell_type": "markdown",
      "metadata": {
        "id": "iLh_9SkSut4u"
      },
      "source": [
        "# **Colabcraft** : Stream Minecraft Java (TLauncher) to Chromebook using Chrome RDP\n",
        "\n",
        "> **Warning : Not for Cryptocurrency Mining<br></br>** \n",
        ">**Why are hardware resources such as T4 GPUs not available to me?** The best available hardware is prioritized for users who use Colaboratory interactively rather than for long-running computations. Users who use Colaboratory for long-running computations may be temporarily restricted in the type of hardware made available to them, and/or the duration that the hardware can be used for. We encourage users with high computational needs to use Colaboratory’s UI with a local runtime. Please note that using Colaboratory for cryptocurrency mining is disallowed entirely, and may result in being banned from using Colab altogether.\n",
        "\n",
        "Run TLauncher from a RDP! \n",
        "CREDIT TO ORIGINAL BELOW\n",
        "\n",
        "**[Colab Hacks](https://github.com/PradyumnaKrishna/Colab-Hacks)**"
      ]
    },
    {
      "cell_type": "code",
      "metadata": {
        "id": "t4yNp3KmLtZ6",
        "colab": {
          "base_uri": "https://localhost:8080/"
        },
        "cellView": "form",
        "outputId": "e91fd4c1-9378-4829-d62d-b46e0e6decdb"
      },
      "source": [
        "#@title **Create User**\n",
        "#@markdown Just press the play button, no need to change the default variables.\n",
        "\n",
        "username = \"user\" #@param {type:\"string\"}\n",
        "password = \"root\" #@param {type:\"string\"}\n",
        "\n",
        "print(\"Creating User and Setting it up\")\n",
        "\n",
        "# Creation of user\n",
        "! sudo useradd -m $username &> /dev/null\n",
        "\n",
        "# Add user to sudo group\n",
        "! sudo adduser $username sudo &> /dev/null\n",
        "    \n",
        "# Set password of user to 'root'\n",
        "! echo '$username:$password' | sudo chpasswd\n",
        "\n",
        "# Change default shell from sh to bash\n",
        "! sed -i 's/\\/bin\\/sh/\\/bin\\/bash/g' /etc/passwd\n",
        "\n",
        "print(\"User Created and Configured\")"
      ],
      "execution_count": null,
      "outputs": [
        {
          "output_type": "stream",
          "text": [
            "Creating User and Setting it up\n",
            "User Created and Configured\n"
          ],
          "name": "stdout"
        }
      ]
    },
    {
      "cell_type": "code",
      "metadata": {
        "id": "Q6bl1b0EifVG",
        "colab": {
          "base_uri": "https://localhost:8080/"
        },
        "cellView": "form",
        "outputId": "4e155b04-3d81-49d7-ab98-d0efa00accb5"
      },
      "source": [
        "#@title **RDP**\n",
        "#@markdown  It takes 4-5 minutes for installation\n",
        "\n",
        "#@markdown  Visit http://remotedesktop.google.com/headless and Copy the \"Debian (linux)\" command after authentication, then paste in CRP field below\n",
        "\n",
        "#@markdown  Check the YouTube video if the page has \"This page isn't working\" error\n",
        "CRP = \"DISPLAY= /opt/google/chrome-remote-desktop/start-host --code=\\\"4/0AY0e-g69Nv7P9OPGMBvafVLxrEfRQ4a9pa1l9AkNjmE54FSESRenNz-ZnIibYl3kEtaKAw\\\" --redirect-url=\\\"https://remotedesktop.google.com/_/oauthredirect\\\" --name=$(hostname)\" #@param {type:\"string\"}\n",
        "\n",
        "#@markdown Enter a pin more or equal to 6 digits, or leave it as it is.\n",
        "Pin = 123456 #@param {type: \"integer\"}\n",
        "\n",
        "def CRD():\n",
        "    with open('install.sh', 'w') as script:\n",
        "        script.write(\"\"\"#! /bin/bash\n",
        "\n",
        "b='\\033[1m'\n",
        "r='\\E[31m'\n",
        "g='\\E[32m'\n",
        "c='\\E[36m'\n",
        "endc='\\E[0m'\n",
        "enda='\\033[0m'\n",
        "\n",
        "printf \"\\n\\n$c$b    Loading Installer $endc$enda\" >&2\n",
        "if sudo apt-get update &> /dev/null\n",
        "then\n",
        "    printf \"\\r$g$b    Installer Loaded $endc$enda\\n\" >&2\n",
        "else\n",
        "    printf \"\\r$r$b    Error Occured $endc$enda\\n\" >&2\n",
        "    exit\n",
        "fi\n",
        "\n",
        "printf \"\\n$g$b    Installing Chrome Remote Desktop $endc$enda\" >&2\n",
        "{\n",
        "    wget https://dl.google.com/linux/direct/chrome-remote-desktop_current_amd64.deb\n",
        "    sudo dpkg --install chrome-remote-desktop_current_amd64.deb\n",
        "    sudo apt install --assume-yes --fix-broken\n",
        "} &> /dev/null &&\n",
        "printf \"\\r$c$b    Chrome Remote Desktop Installed $endc$enda\\n\" >&2 ||\n",
        "{ printf \"\\r$r$b    Error Occured $endc$enda\\n\" >&2; exit; }\n",
        "sleep 3\n",
        "\n",
        "printf \"$g$b    Installing Desktop Environment $endc$enda\" >&2\n",
        "{\n",
        "    sudo DEBIAN_FRONTEND=noninteractive \\\n",
        "        apt install --assume-yes xfce4 desktop-base xfce4-terminal\n",
        "    sudo bash -c 'echo \"exec /etc/X11/Xsession /usr/bin/xfce4-session\" > /etc/chrome-remote-desktop-session'  \n",
        "    sudo apt remove --assume-yes gnome-terminal\n",
        "    sudo apt install --assume-yes xscreensaver\n",
        "    sudo systemctl disable lightdm.service\n",
        "} &> /dev/null &&\n",
        "printf \"\\r$c$b    Desktop Environment Installed $endc$enda\\n\" >&2 ||\n",
        "{ printf \"\\r$r$b    Error Occured $endc$enda\\n\" >&2; exit; }\n",
        "sleep 3\n",
        "\n",
        "printf \"$g$b    Installing Google Chrome $endc$enda\" >&2\n",
        "{\n",
        "    wget https://dl.google.com/linux/direct/google-chrome-stable_current_amd64.deb\n",
        "    sudo dpkg --install google-chrome-stable_current_amd64.deb\n",
        "    sudo apt install --assume-yes --fix-broken\n",
        "} &> /dev/null &&\n",
        "printf \"\\r$c$b    Google Chrome Installed $endc$enda\\n\" >&2 ||\n",
        "printf \"\\r$r$b    Error Occured $endc$enda\\n\" >&2\n",
        "sleep 3\n",
        "\n",
        "printf \"$g$b    Installing TLauncher $endc$enda\" >&2\n",
        "{\n",
        "    wget https://github.com/RikyIsola/tlauncher-linux/releases/download/v1.0/tlauncher_1.0_amd64.deb\n",
        "    sudo dpkg --install tlauncher_1.0_amd64.deb\n",
        "    sudo apt install --assume-yes --fix-broken\n",
        "} &> /dev/null &&\n",
        "printf \"\\r$c$b    TLauncher Installed $endc$enda\\n\" >&2 ||\n",
        "printf \"\\r$r$b    Error Occured $endc$enda\\n\" >&2\n",
        "sleep 3\n",
        "\n",
        "printf \"$g$b    Installing other Tools $endc$enda\" >&2\n",
        "if sudo apt install nautilus nano -y &> /dev/null\n",
        "then\n",
        "    printf \"\\r$c$b    Other Tools Installed $endc$enda\\n\" >&2\n",
        "else\n",
        "    printf \"\\r$r$b    Error Occured $endc$enda\\n\" >&2\n",
        "fi\n",
        "sleep 3\n",
        "\n",
        "\n",
        "\n",
        "printf \"\\n$g$b    Installation Completed $endc$enda\\n\\n\" >&2\"\"\")\n",
        "\n",
        "    ! chmod +x install.sh\n",
        "    ! ./install.sh\n",
        "\n",
        "    # Adding user to CRP group\n",
        "    ! sudo adduser $username chrome-remote-desktop &> /dev/null\n",
        "\n",
        "    # Finishing Work\n",
        "    ! su - $username -c \"\"\"$CRP --pin=$Pin\"\"\" &> /dev/null\n",
        "\n",
        "    print(\"Finished Succesfully, now you can open Chrome Remote Desktop and play MC!\")\n",
        "\n",
        "try:\n",
        "    if username:\n",
        "        if CRP == \"\":\n",
        "            print(\"Please enter authcode from the given link\")\n",
        "        elif len(str(Pin)) < 6:\n",
        "            print(\"Enter a pin more or equal to 6 digits\")\n",
        "        else:\n",
        "            CRD()\n",
        "except NameError:\n",
        "    print(\"username variable not found\")\n",
        "    print(\"Create a User First\")"
      ],
      "execution_count": null,
      "outputs": [
        {
          "output_type": "stream",
          "text": [
            "\n",
            "\n",
            "\u001b[32m\u001b[1m    Installer Loaded \u001b[0m\u001b[0m\n",
            "\n",
            "\u001b[36m\u001b[1m    Chrome Remote Desktop Installed \u001b[0m\u001b[0m\n",
            "\u001b[36m\u001b[1m    Desktop Environment Installed \u001b[0m\u001b[0m\n",
            "\u001b[36m\u001b[1m    Google Chrome Installed \u001b[0m\u001b[0m\n",
            "\u001b[36m\u001b[1m    TLauncher Installed \u001b[0m\u001b[0m\n",
            "\u001b[36m\u001b[1m    Other Tools Installed \u001b[0m\u001b[0m\n",
            "\n",
            "\u001b[32m\u001b[1m    Installation Completed \u001b[0m\u001b[0m\n",
            "\n",
            "Finished Succesfully, now you can open Chrome Remote Desktop and play MC!\n"
          ],
          "name": "stdout"
        }
      ]
    },
    {
      "cell_type": "code",
      "metadata": {
        "id": "vk2qtOTGIFsQ",
        "cellView": "form",
        "colab": {
          "base_uri": "https://localhost:8080/"
        },
        "outputId": "c07ba52a-c969-4691-9a59-f84b27f80115"
      },
      "source": [
        "#@title **Google Drive Mount**\n",
        "#@markdown Google Drive used for files.<br>\n",
        "#@markdown In this case, used for storing MC world saves.<br>\n",
        "#@markdown Mounted at `user` Home directory inside drive folder<br>\n",
        "#@markdown Run <b>before</b> using options below!\n",
        "\n",
        "def MountGDrive():\n",
        "    from google.colab import drive\n",
        "\n",
        "    ! runuser -l $user -c \"yes | python3 -m pip install --user google-colab\"  > /dev/null 2>&1\n",
        "\n",
        "    mount = \"\"\"from os import environ as env\n",
        "from google.colab import drive\n",
        "\n",
        "env['CLOUDSDK_CONFIG']  = '/content/.config'\n",
        "drive.mount('{}')\"\"\".format(mountpoint)\n",
        "\n",
        "    with open('/content/mount.py', 'w') as script:\n",
        "        script.write(mount)\n",
        "\n",
        "    ! runuser -l $user -c \"python3 /content/mount.py\"\n",
        "\n",
        "try:\n",
        "    if username:\n",
        "        mountpoint = \"/home/\"+username+\"/drive\"\n",
        "        user = username\n",
        "except NameError:\n",
        "    print(\"username variable not found, mounting at `/content/drive' using `root'\")\n",
        "    mountpoint = '/content/drive'\n",
        "    user = 'root'\n",
        "\n",
        "MountGDrive()"
      ],
      "execution_count": null,
      "outputs": [
        {
          "output_type": "stream",
          "text": [
            "Go to this URL in a browser: https://accounts.google.com/o/oauth2/auth?client_id=947318989803-6bn6qk8qdgf4n4g3pfee6491hc0brc4i.apps.googleusercontent.com&redirect_uri=urn%3aietf%3awg%3aoauth%3a2.0%3aoob&scope=email%20https%3a%2f%2fwww.googleapis.com%2fauth%2fdocs.test%20https%3a%2f%2fwww.googleapis.com%2fauth%2fdrive%20https%3a%2f%2fwww.googleapis.com%2fauth%2fdrive.photos.readonly%20https%3a%2f%2fwww.googleapis.com%2fauth%2fpeopleapi.readonly%20https%3a%2f%2fwww.googleapis.com%2fauth%2fdrive.activity.readonly%20https%3a%2f%2fwww.googleapis.com%2fauth%2fexperimentsandconfigs%20https%3a%2f%2fwww.googleapis.com%2fauth%2fphotos.native&response_type=code\n",
            "\n",
            "Enter your authorization code:\n",
            "4/1AY0e-g5WORFNRw91XxpqDSUwWE79HjgDqQLar0qQ1BMoAlKMQPM17-vvVSM\n",
            "Mounted at /home/user/drive\n"
          ],
          "name": "stdout"
        }
      ]
    },
    {
      "cell_type": "code",
      "metadata": {
        "colab": {
          "base_uri": "https://localhost:8080/"
        },
        "cellView": "form",
        "id": "8PdKLIRXmzcX",
        "outputId": "3a95ae26-1ca4-4c7d-b8fa-45f0cfa90984"
      },
      "source": [
        "#@title **RESTORE MC Saves from Drive to RDP**\n",
        "#@markdown Use this to copy your Minecraft worlds from your Google Drive to your RDP server.<br>\n",
        "! runuser -l $user -c \"mkdir -p /home/user/.minecraft/saves\"  > /dev/null 2>&1\n",
        "! runuser -l $user -c \"mkdir -p /home/user/drive/MyDrive/0_MC_Saves\"  > /dev/null 2>&1\n",
        "! runuser -l $user -c \"cp -r /home/user/drive/MyDrive/0_MC_Saves/saves /home/user/.minecraft/\"  > /dev/null 2>&1\n",
        "print(\"Done! If it didn't work, it's likely you don't have any worlds backed up.\")"
      ],
      "execution_count": null,
      "outputs": [
        {
          "output_type": "stream",
          "text": [
            "Done! If it didn't work, it's likely you don't have any saves backed up.\n"
          ],
          "name": "stdout"
        }
      ]
    },
    {
      "cell_type": "code",
      "metadata": {
        "colab": {
          "base_uri": "https://localhost:8080/"
        },
        "cellView": "form",
        "id": "Nl5vZO1QnNLq",
        "outputId": "0798697c-47e0-4f81-f1dd-a67c6b24acaa"
      },
      "source": [
        "#@title **BACKUP MC Saves from Drive to RDP**\n",
        "#@markdown Use this to copy your Minecraft worlds from your RDP server to your Google Drive.<br>\n",
        "! runuser -l $user -c \"mkdir -p /home/user/.minecraft/saves\"  > /dev/null 2>&1\n",
        "! runuser -l $user -c \"mkdir -p /home/user/drive/MyDrive/0_MC_Saves\"  > /dev/null 2>&1\n",
        "! runuser -l $user -c \"cp -r /home/user/.minecraft/saves /home/user/drive/MyDrive/0_MC_Saves/\"  > /dev/null 2>&1\n",
        "print(\"Done! If it didn't work, it's likely you don't have any worlds.\")"
      ],
      "execution_count": null,
      "outputs": [
        {
          "output_type": "stream",
          "text": [
            "Done! If it didn't work, it's likely you don't have any worlds.\n"
          ],
          "name": "stdout"
        }
      ]
    },
    {
      "cell_type": "markdown",
      "metadata": {
        "id": "x88ou1Zb1LEM"
      },
      "source": [
        "cool"
      ]
    }
  ]
}